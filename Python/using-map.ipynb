{
 "cells": [
  {
   "attachments": {},
   "cell_type": "markdown",
   "metadata": {},
   "source": [
    "# Using `map()`\n",
    "\n",
    "map() function returns a map object (which is an iterator) of the results after applying the given function to each item of a given iterable (list, tuple etc.)"
   ]
  },
  {
   "cell_type": "code",
   "execution_count": 1,
   "metadata": {},
   "outputs": [
    {
     "name": "stdout",
     "output_type": "stream",
     "text": [
      "True\n",
      "False\n",
      "False\n"
     ]
    }
   ],
   "source": [
    "test = lambda x : True if (x > 10 and x < 20) else False\n",
    "\n",
    "print(test(12))\n",
    "print(test(3))\n",
    "print(test(24))"
   ]
  },
  {
   "attachments": {},
   "cell_type": "markdown",
   "metadata": {},
   "source": [
    "## Syntax\n",
    "\n",
    "`map(function, iterable)`"
   ]
  },
  {
   "cell_type": "markdown",
   "metadata": {},
   "source": [
    "## Parameters\n",
    "\n",
    "- function : It is a function to which map passes each element of given iterable.\n",
    "- iterable : It is a iterable which is to be mapped."
   ]
  },
  {
   "cell_type": "markdown",
   "metadata": {},
   "source": [
    "## Like VLOOKUP\n",
    "\n",
    "`map()` can be used to have similar functionality to a `vlookup` in Excel. By creating a dictionay of keys and values, a column in a `dataframe` can be used to lookup a key and return its value."
   ]
  },
  {
   "cell_type": "code",
   "execution_count": 1,
   "metadata": {},
   "outputs": [],
   "source": [
    "import pandas as pd\n",
    "\n",
    "staff_name = {100120 : 'Adam Lowe',\n",
    "              100118 : 'Tife Kusimo'}\n",
    "d = [[100120, 'MI & Data Manager', 'UPE'],\n",
    "     [100121, 'Data Analyst',' UPE']]"
   ]
  },
  {
   "cell_type": "code",
   "execution_count": null,
   "metadata": {},
   "outputs": [],
   "source": [
    "#--look up the employee number as a key in the dictionary and return its value (staff name)\n",
    "df = pd.DataFrame(data=d, columns=['EmployeeNumber', 'JobTitle', 'Division'])    \n",
    "\n",
    "df['EmployeeName'] = df['EmployeeNumber'].map(staff_name)"
   ]
  },
  {
   "attachments": {},
   "cell_type": "markdown",
   "metadata": {},
   "source": [
    "## To apply functions\n",
    "\n"
   ]
  },
  {
   "cell_type": "code",
   "execution_count": 5,
   "metadata": {},
   "outputs": [
    {
     "name": "stdout",
     "output_type": "stream",
     "text": [
      "[2, 4, 6, 8]\n"
     ]
    }
   ],
   "source": [
    "#-- double numbers with lambda\n",
    "numbers = [1,2,3,4]\n",
    "result = map(lambda x: x+x, numbers)\n",
    "print(list(result))"
   ]
  },
  {
   "cell_type": "code",
   "execution_count": 6,
   "metadata": {},
   "outputs": [
    {
     "name": "stdout",
     "output_type": "stream",
     "text": [
      "[2, 4, 6, 8]\n"
     ]
    }
   ],
   "source": [
    "#--use it with functions\n",
    "def addition(n):\n",
    "    return n + n\n",
    "numbers = [1,2,3,4]\n",
    "result = map(addition, numbers)\n",
    "print(list(result))"
   ]
  },
  {
   "cell_type": "code",
   "execution_count": 7,
   "metadata": {},
   "outputs": [
    {
     "name": "stdout",
     "output_type": "stream",
     "text": [
      "[6, 8, 10, 12]\n"
     ]
    }
   ],
   "source": [
    "numbers1 = [1,2,3,4]\n",
    "numbers2 = [5,6,7,8]\n",
    "result = map(lambda x, y: x + y, numbers1, numbers2)\n",
    "print(list(result))"
   ]
  },
  {
   "cell_type": "code",
   "execution_count": 9,
   "metadata": {},
   "outputs": [
    {
     "name": "stdout",
     "output_type": "stream",
     "text": [
      "[['c', 'a', 't'], ['d', 'o', 'g'], ['f', 'i', 's', 'h']]\n"
     ]
    }
   ],
   "source": [
    "#--extract letters from each word in a string, create nested list\n",
    "words = ['cat', 'dog', 'fish']\n",
    "result = list(map(list, words))\n",
    "print(result)"
   ]
  }
 ],
 "metadata": {
  "kernelspec": {
   "display_name": "Python 3",
   "language": "python",
   "name": "python3"
  },
  "language_info": {
   "codemirror_mode": {
    "name": "ipython",
    "version": 3
   },
   "file_extension": ".py",
   "mimetype": "text/x-python",
   "name": "python",
   "nbconvert_exporter": "python",
   "pygments_lexer": "ipython3",
   "version": "3.10.9"
  },
  "orig_nbformat": 4,
  "vscode": {
   "interpreter": {
    "hash": "722b99974ab355ba809043ab2300683fd516c689c1affd41efe01972c5f0fe92"
   }
  }
 },
 "nbformat": 4,
 "nbformat_minor": 2
}
