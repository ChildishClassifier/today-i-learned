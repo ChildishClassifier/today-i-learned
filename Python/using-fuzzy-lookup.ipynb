{
 "cells": [
  {
   "attachments": {},
   "cell_type": "markdown",
   "metadata": {},
   "source": [
    "# Fuzzy lookup in Python\n",
    "\n",
    "We can do fuzzy lookup using the `difflib` library, which is part of the standard library in Python."
   ]
  },
  {
   "cell_type": "code",
   "execution_count": 1,
   "metadata": {},
   "outputs": [
    {
     "name": "stdout",
     "output_type": "stream",
     "text": [
      "score for: apple vs. ape = 0.75\n",
      "score for: apple vs. fjsdf = 0.0\n",
      "score for: apple vs. aerewtg = 0.3333333333333333\n",
      "score for: apple vs. dgyow = 0.0\n",
      "score for: apple vs. paepd = 0.4\n"
     ]
    }
   ],
   "source": [
    "import difflib\n",
    "my_str = 'apple'\n",
    "str_list = ['ape' , 'fjsdf', 'aerewtg', 'dgyow', 'paepd']\n",
    "best_match = difflib.get_close_matches(word=my_str,possibilities=str_list,n=1)[0]\n",
    "score = difflib.SequenceMatcher(None, my_str, best_match).ratio()\n",
    "\n",
    "for word in str_list:\n",
    "    print (\"score for: \" + my_str + \" vs. \" + word + \" = \" + str(difflib.SequenceMatcher(None, my_str, word).ratio()))"
   ]
  }
 ],
 "metadata": {
  "kernelspec": {
   "display_name": "Python 3",
   "language": "python",
   "name": "python3"
  },
  "language_info": {
   "codemirror_mode": {
    "name": "ipython",
    "version": 3
   },
   "file_extension": ".py",
   "mimetype": "text/x-python",
   "name": "python",
   "nbconvert_exporter": "python",
   "pygments_lexer": "ipython3",
   "version": "3.10.9 (tags/v3.10.9:1dd9be6, Dec  6 2022, 20:01:21) [MSC v.1934 64 bit (AMD64)]"
  },
  "orig_nbformat": 4,
  "vscode": {
   "interpreter": {
    "hash": "722b99974ab355ba809043ab2300683fd516c689c1affd41efe01972c5f0fe92"
   }
  }
 },
 "nbformat": 4,
 "nbformat_minor": 2
}
