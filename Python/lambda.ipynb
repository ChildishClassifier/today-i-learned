{
 "cells": [
  {
   "cell_type": "markdown",
   "metadata": {},
   "source": [
    "# Using lambda Functions"
   ]
  },
  {
   "cell_type": "markdown",
   "metadata": {},
   "source": [
    "`lambda` functions allow you to produce small, anonymous functions. They can be passed arguments like any other function. They are typically used in place and just when they are needed."
   ]
  },
  {
   "cell_type": "markdown",
   "metadata": {},
   "source": [
    "## Example"
   ]
  },
  {
   "cell_type": "markdown",
   "metadata": {
    "vscode": {
     "languageId": "python"
    }
   },
   "source": [
    "These functions convert temperatures, using the `map` function and defining new functions."
   ]
  },
  {
   "cell_type": "code",
   "execution_count": 3,
   "metadata": {},
   "outputs": [
    {
     "name": "stdout",
     "output_type": "stream",
     "text": [
      "[32.0, 53.6, 93.2, 212.0]\n",
      "[0.0, 18.333333333333332, 37.77777777777778, 100.0]\n"
     ]
    }
   ],
   "source": [
    "def CelsiusToFahrenheit(temp):\n",
    "    return (temp * 9/5) + 32\n",
    "    \n",
    "def FahrenheitToCelsius(temp):\n",
    "    return (temp-32) * 5/9\n",
    "\n",
    "ctemps = [0, 12, 34, 100]\n",
    "ftemps = [32, 65, 100, 212]\n",
    "\n",
    "print(list(map(CelsiusToFahrenheit, ctemps)))\n",
    "print(list(map(FahrenheitToCelsius, ftemps)))\n"
   ]
  },
  {
   "cell_type": "markdown",
   "metadata": {
    "vscode": {
     "languageId": "python"
    }
   },
   "source": [
    "We can make this easier to read and less complex, using `lambda` to replace the need to define entire functions:"
   ]
  },
  {
   "cell_type": "code",
   "execution_count": 4,
   "metadata": {},
   "outputs": [
    {
     "name": "stdout",
     "output_type": "stream",
     "text": [
      "[32.0, 53.6, 93.2, 212.0]\n",
      "[0.0, 18.333333333333332, 37.77777777777778, 100.0]\n"
     ]
    }
   ],
   "source": [
    "ctemps = [0, 12, 34, 100]\n",
    "ftemps = [32, 65, 100, 212]\n",
    "\n",
    "print(list(map(lambda t: (t * 9/5) + 32, ctemps)))\n",
    "print(list(map(lambda t: (t-32) * 5/9, ftemps)))"
   ]
  },
  {
   "cell_type": "code",
   "execution_count": null,
   "metadata": {},
   "outputs": [],
   "source": []
  },
  {
   "cell_type": "code",
   "execution_count": null,
   "metadata": {},
   "outputs": [],
   "source": []
  },
  {
   "cell_type": "code",
   "execution_count": null,
   "metadata": {},
   "outputs": [],
   "source": []
  },
  {
   "cell_type": "markdown",
   "metadata": {},
   "source": []
  }
 ],
 "metadata": {
  "kernelspec": {
   "display_name": "Python 3",
   "language": "python",
   "name": "python3"
  },
  "language_info": {
   "codemirror_mode": {
    "name": "ipython",
    "version": 3
   },
   "file_extension": ".py",
   "mimetype": "text/x-python",
   "name": "python",
   "nbconvert_exporter": "python",
   "pygments_lexer": "ipython3",
   "version": "3.10.9 (tags/v3.10.9:1dd9be6, Dec  6 2022, 20:01:21) [MSC v.1934 64 bit (AMD64)]"
  },
  "orig_nbformat": 4,
  "vscode": {
   "interpreter": {
    "hash": "722b99974ab355ba809043ab2300683fd516c689c1affd41efe01972c5f0fe92"
   }
  }
 },
 "nbformat": 4,
 "nbformat_minor": 2
}
